{
 "cells": [
  {
   "cell_type": "markdown",
   "metadata": {},
   "source": [
    "# Gömb illesztés\n",
    "\n",
    "### Egyértelmű meghatározás 4 pont alapján\n",
    "\n",
    "Először 4 ismert helyzetű $P_i(x_i,y_i,z_i)$ pontra illesztünk gömböt algebrai módszerrel. Négy pont esetében $i=1,...,4$ a feladat egyértelműen megoldható lineáris egyenletrendszerhez vezet (lásd Paláncz, Molnár (2012) [Wolfram Library Archive](http://library.wolfram.com/infocenter/MathSource/8491/)).\n",
    "\n",
    "Mindegyik pontra illeszkedik az $R$ sugarú gömb:\n",
    "$$ \\sqrt{(x_i-x_0)^2+(y_i-y_0)^2+(z_i-z_0)^2} -R = 0 $$\n",
    "\n",
    "ezért mindegyik pontra\n",
    "$$ \\sqrt{(x_i-x_0)^2+(y_i-y_0)^2+(z_i-z_0)^2} +R = 2R = c $$\n",
    "\n",
    "A két egyenletet összeszorozva\n",
    "$$ (x_i-x_0)^2+(y_i-y_0)^2+(z_i-z_0)^2 -R^2 = 0 $$\n",
    "\n",
    "Az $R$ helyett új $\\alpha$ ismeretlent bevezetve az alábbi *lineáris* egyenletrendszert kell megoldani a $\\mathbf{p}=[x_0, y_0, z_0, \\alpha]$ paraméterekre\n",
    "$$ x_i^2 + y_i^2 + z_i^2 -2x_0 x_i -2y_0 y_i - 2z_0 z_i + \\alpha = 0$$\n",
    "ahol\n",
    "$$ \\alpha = x_0^2 + y_0^2 + z_0^2 -R^2$$\n",
    "\n",
    "A feladat megoldását az alábby Python függvény tartalmazza:\n"
   ]
  },
  {
   "cell_type": "code",
   "execution_count": 1,
   "metadata": {
    "collapsed": true
   },
   "outputs": [],
   "source": [
    "def sph4modell(X):\n",
    "    \"\"\"\n",
    "    sph4modell(X) gömböt határoz meg négy, az, X mátrix soraiban megadott pontra\n",
    "    Hivatkozás: Paláncz, Molnár (2012): Fitting sphere to quantized depth information\n",
    "    Input:  X: 4x3-as mátrix, a négy pont [x,y,z] koordinátái (sorvektorokként tárolva)\n",
    "    Output: 4 elemű vektorban  [x0, y0, z0, r], ahol:\n",
    "              r: a gömb sugara\n",
    "              x0, y0, z0: a gömb középpontjának koordinátái\n",
    "    Megjegyzés:  Ha nincs megoldás (a 4 pont közel egy síkba esik, akkor a\n",
    "                 függvény visszatérési értéke None\n",
    "    \"\"\"\n",
    "\n",
    "    # átlagértékeket levonjuk\n",
    "    Xm = np.mean(X,axis=0)\n",
    "    Xs = X-Xm\n",
    "\n",
    "    # M mátrix\n",
    "    M=np.hstack((-2.0*Xs,np.ones((4,1))))\n",
    "    # h vektor\n",
    "    h=-np.sum(Xs**2,axis=1)  # sorok összegzése\n",
    "    # kondíciószám ellenőrzése:\n",
    "    if np.linalg.cond(M) > 1000:\n",
    "        return None\n",
    "    # determináns ellenőrzése:\n",
    "    if np.abs(np.linalg.det(M)) < 1.0e-15:\n",
    "        return None\n",
    "    p=np.linalg.solve(M,h)\n",
    "    # gömb sugara\n",
    "    r=np.sqrt(np.sum(p[0:3]**2)-p[3])\n",
    "    # középpont koordinátái\n",
    "    c=p[0:3]+Xm\n",
    "    return np.hstack((c,r))\n"
   ]
  },
  {
   "cell_type": "markdown",
   "metadata": {},
   "source": [
    "Teszteljük a függvényt!"
   ]
  },
  {
   "cell_type": "code",
   "execution_count": 2,
   "metadata": {
    "collapsed": false
   },
   "outputs": [
    {
     "name": "stdout",
     "output_type": "stream",
     "text": [
      "[ 0.54748534  0.49907036  0.62914037  0.41285427]\n"
     ]
    }
   ],
   "source": [
    "import numpy as np\n",
    "\n",
    "X = np.array([[0.655416348349, 0.200995185452, 0.893622387647], \n",
    "              [0.281886543129, 0.525000382971, 0.314126774995], \n",
    "              [0.444615678299, 0.299474455628, 0.282689857776], \n",
    "              [0.883227485267, 0.270905975731, 0.704419015849]])\n",
    "\n",
    "p = sph4modell(X)\n",
    "print p"
   ]
  },
  {
   "cell_type": "markdown",
   "metadata": {},
   "source": [
    "### Illesztés legkisebb négyzetek módszerével több mint 4 pont esetén\n",
    "\n",
    "Több mint 4 pont esetén a legkisebb négyzetek módszerével készíthetünk illeszkedő gömböt. Ehhez az alábbi Python függvényeket írtuk meg."
   ]
  },
  {
   "cell_type": "code",
   "execution_count": 3,
   "metadata": {
    "collapsed": true
   },
   "outputs": [],
   "source": [
    "def svdsolve(a,b):\n",
    "    u,s,v = np.linalg.svd(a)\n",
    "    c = np.dot(u.T,b)\n",
    "    w = np.divide(c[:len(s)],s)\n",
    "    x = np.dot(v.T,w)\n",
    "    return x\n",
    "\n",
    "def sph4fit(X):\n",
    "    \"\"\"\n",
    "    sph4fit(X) gömböt határoz meg négy vagy több, az, X mátrix soraiban megadott pontra\n",
    "    Hivatkozás: Paláncz, Molnár (2012): Fitting sphere to quantized depth information\n",
    "    Input:  X: nx3-as mátrix, az n pont [x,y,z] koordinátái (sorvektorokként tárolva)\n",
    "    Output: 4 elemű vektorban  [x0, y0, z0, r], ahol:\n",
    "              r: a gömb sugara\n",
    "              x0, y0, z0: a gömb középpontjának koordinátái\n",
    "    Megjegyzés:  Ha nincs jó megoldás, akkor a függvény visszatérési értéke None\n",
    "    \"\"\"\n",
    "\n",
    "    # átlagértékeket levonjuk\n",
    "    Xm = np.mean(X,axis=0)\n",
    "    Xs = X-Xm\n",
    "    n = Xs.shape[0]\n",
    "\n",
    "    # M mátrix\n",
    "    M=np.hstack((-2.0*Xs,np.ones((n,1))))\n",
    "    # h vektor\n",
    "    h=-np.sum(Xs**2,axis=1)  # sorok összegzése\n",
    "    # kondíciószám ellenőrzése:\n",
    "    if np.linalg.cond(M) > 1000:\n",
    "        return None\n",
    "    p=svdsolve(M,h)\n",
    "    # gömb sugara\n",
    "    r=np.sqrt(np.sum(p[0:3]**2)-p[3])\n",
    "    # középpont koordinátái\n",
    "    c=p[0:3]+Xm\n",
    "    return np.hstack((c,r))"
   ]
  },
  {
   "cell_type": "markdown",
   "metadata": {},
   "source": [
    "Ezt a függvényt is teszteljük:"
   ]
  },
  {
   "cell_type": "code",
   "execution_count": 4,
   "metadata": {
    "collapsed": false
   },
   "outputs": [
    {
     "name": "stdout",
     "output_type": "stream",
     "text": [
      "[ 0.50949211  0.39356424  0.54173242  0.5305028 ]\n"
     ]
    }
   ],
   "source": [
    "# 10 pont\n",
    "Xp = np.array([[0.236419323876, 0.94539908057,  0.448603985892], \n",
    "               [0.132256383655, 0.0585420373716,0.189678073452], \n",
    "               [0.777527902317, 0.237423931798, 0.978964303253], \n",
    "               [0.0367820896797,0.191109494886, 0.64247854129 ],\n",
    "               [0.233535838244, 0.0910807008584,0.899334281424], \n",
    "               [0.983635710836, 0.211019679874, 0.552776867983], \n",
    "               [0.494141778444, 0.579783629292, 0.811875091404], \n",
    "               [0.983877207446, 0.262955546077, 0.993804390297], \n",
    "               [0.901832244664, 0.240795911508, 0.635966928702], \n",
    "               [0.151086132434, 0.251504104295, 0.33397148847 ]])\n",
    "\n",
    "p10 = sph4fit(Xp)\n",
    "print p10"
   ]
  },
  {
   "cell_type": "markdown",
   "metadata": {},
   "source": [
    "Azért, hogy lássuk az illeszkedést, kiszámítjuk a pontok eltéréseit (előjelesen vagy előjel nélkül) az illeszkedő gömb felszínéhez képest. Ezt a következő függvénnyel valósíthatjuk meg:"
   ]
  },
  {
   "cell_type": "code",
   "execution_count": 5,
   "metadata": {
    "collapsed": true
   },
   "outputs": [],
   "source": [
    "def sphdist(sph,X,pos=1):\n",
    "    \"\"\"\n",
    "    sphdist(sph,X) az X pontok távolságát számítja ki a sph gömbtől\n",
    "    sph: 4-elemű vektor: [x0, y0, z0, r]\n",
    "         x0, y0, z0: a gömb középpontja\n",
    "         r: a gömb sugara\n",
    "         X: (n,3) mátrix, az n db. pont koordinátái\n",
    "       pos: ha pos=0, előjeles távolságokat számít ki, egyébként nem\n",
    "    \"\"\"\n",
    "    r = sph[3]\n",
    "    c = sph[0:3]\n",
    "    # középponttól vett távolság négyzete\n",
    "    dc = np.sum((X-c)**2,axis=1)\n",
    "    if pos==1:\n",
    "        dist = np.abs(np.sqrt(dc)-r)\n",
    "    else:\n",
    "        dist = np.sqrt(dc)-r\n",
    "    return dist"
   ]
  },
  {
   "cell_type": "markdown",
   "metadata": {},
   "source": [
    "A 4 pontos illesztés eltérései az egyes pontokban:"
   ]
  },
  {
   "cell_type": "code",
   "execution_count": 6,
   "metadata": {
    "collapsed": false
   },
   "outputs": [
    {
     "name": "stdout",
     "output_type": "stream",
     "text": [
      "[  5.55111512e-17   5.55111512e-17   0.00000000e+00   0.00000000e+00]\n"
     ]
    }
   ],
   "source": [
    "print sphdist(p,X)"
   ]
  },
  {
   "cell_type": "markdown",
   "metadata": {},
   "source": [
    "Ugyanez 10 pont esetében:"
   ]
  },
  {
   "cell_type": "code",
   "execution_count": 7,
   "metadata": {
    "collapsed": false
   },
   "outputs": [
    {
     "name": "stdout",
     "output_type": "stream",
     "text": [
      "[ 0.09220366  0.08471174  0.00558926  0.00648709  0.01312137  0.02231322\n",
      "  0.20203613  0.13768049  0.09905282  0.09255243]\n"
     ]
    }
   ],
   "source": [
    "print sphdist(p10,Xp)"
   ]
  },
  {
   "cell_type": "markdown",
   "metadata": {},
   "source": [
    "Ha több kivágó (outlier) pontunk van, akkor a legkisebb négyzetek szerinti illesztés nem ad megfelelő eredményt. Ezért helyette a RANSAC megoldást fogjuk alkalmazni (Fischler M A, Bolles R C, Random Sample Consensus: A paradigm for model fitting with applications to image analysis and automated cartography, Communications of the ACM, 24(6): 381-395, 1981, [PDF](http://www.cs.columbia.edu/~belhumeur/courses/compPhoto/ransac.pdf))."
   ]
  }
 ],
 "metadata": {
  "kernelspec": {
   "display_name": "Python 2",
   "language": "python",
   "name": "python2"
  },
  "language_info": {
   "codemirror_mode": {
    "name": "ipython",
    "version": 2
   },
   "file_extension": ".py",
   "mimetype": "text/x-python",
   "name": "python",
   "nbconvert_exporter": "python",
   "pygments_lexer": "ipython2",
   "version": "2.7.6"
  }
 },
 "nbformat": 4,
 "nbformat_minor": 0
}
